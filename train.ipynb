{
 "cells": [
  {
   "cell_type": "code",
   "execution_count": null,
   "metadata": {},
   "outputs": [],
   "source": [
    "# Quantum observer\n",
    "\n",
    "# Real world supervisor\n",
    "\n",
    "# Real world"
   ]
  },
  {
   "cell_type": "code",
   "execution_count": 3,
   "metadata": {},
   "outputs": [
    {
     "data": {
      "text/html": [
       "<pre style=\"word-wrap: normal;white-space: pre;background: #fff0;line-height: 1.1;font-family: &quot;Courier New&quot;,Courier,monospace\">   ┌─────────────────────────────┐\n",
       "q: ┤ Initialize(0.70711,0.70711) ├\n",
       "   └─────────────────────────────┘</pre>"
      ],
      "text/plain": [
       "   ┌─────────────────────────────┐\n",
       "q: ┤ Initialize(0.70711,0.70711) ├\n",
       "   └─────────────────────────────┘"
      ]
     },
     "execution_count": 3,
     "metadata": {},
     "output_type": "execute_result"
    }
   ],
   "source": [
    "from qiskit import QuantumCircuit, execute, Aer\n",
    "from qiskit.visualization import plot_histogram\n",
    "from math import sqrt\n",
    "\n",
    "# Create a quantum circuit with one qubit\n",
    "qc = QuantumCircuit(1)  \n",
    "\n",
    "# Define state |Psi>\n",
    "initial_state = [1/sqrt(2), 1/sqrt(2)] \n",
    "\n",
    "# Apply initialization operation to the qubit at position 0\n",
    "qc.initialize(initial_state, 0) \n",
    "\n",
    "# Tell Qiskit how to simulate our circuit\n",
    "backend = Aer.get_backend('statevector_simulator') \n",
    "\n",
    "# Do the simulation, returning the result\n",
    "result = execute(qc,backend).result()\n",
    "\n",
    "# Get the data and display histogram\n",
    "counts = result.get_counts()\n",
    "plot_histogram(counts)\n",
    "# qc.draw(output='text')\n"
   ]
  }
 ],
 "metadata": {
  "interpreter": {
   "hash": "5b698d83d6f0ed217a76fd683473a35493c1a7a0dfab97164c5d404abf6d685e"
  },
  "kernelspec": {
   "display_name": "Python 3.9.13 64-bit (windows store)",
   "language": "python",
   "name": "python3"
  },
  "language_info": {
   "codemirror_mode": {
    "name": "ipython",
    "version": 3
   },
   "file_extension": ".py",
   "mimetype": "text/x-python",
   "name": "python",
   "nbconvert_exporter": "python",
   "pygments_lexer": "ipython3",
   "version": "3.9.13"
  },
  "orig_nbformat": 4
 },
 "nbformat": 4,
 "nbformat_minor": 2
}
